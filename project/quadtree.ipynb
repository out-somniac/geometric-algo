{
 "cells": [
  {
   "cell_type": "code",
   "execution_count": 10,
   "id": "43398817",
   "metadata": {},
   "outputs": [],
   "source": [
    "from typing import Tuple, List\n",
    "import matplotlib.pyplot as plt\n",
    "from matplotlib.patches import Rectangle"
   ]
  },
  {
   "cell_type": "code",
   "execution_count": 11,
   "id": "89074a1d",
   "metadata": {},
   "outputs": [],
   "source": [
    "class Point():\n",
    "    def __init__(self, x: float, y: float) -> 'Point':\n",
    "        self.x = x\n",
    "        self.y = y\n",
    "    \n",
    "    def __eq__(self, other) -> bool:\n",
    "        return (self.x == other.x and self.y == other.y)\n",
    "    \n",
    "    def __str__(self) -> str:\n",
    "        return \"{}, {}\".format(self.x, self.y)\n",
    "    \n",
    "    def __repr__(self) -> str:\n",
    "        return self.__str__()\n",
    "    \n",
    "    def follows(self, other: 'Point') -> bool:\n",
    "        return self.x > other.x and self.y > other.y\n",
    "    \n",
    "    def precedes(self, other: 'Point') -> bool:\n",
    "        return self.x < other.x and self.y < other.y"
   ]
  },
  {
   "cell_type": "code",
   "execution_count": 6,
   "id": "a2d3eb67",
   "metadata": {},
   "outputs": [],
   "source": [
    "class Rect():\n",
    "    def __init__(self, lower_left: Tuple[float, float], upper_right: Tuple[float, float]) -> 'Rect':\n",
    "        self.lower_left = Point(*lower_left)\n",
    "        self.upper_right = Point(*upper_right) \n",
    "        \n",
    "        if not self.lower_left.precedes(self.upper_right):\n",
    "            raise ValueError('Lower-left point must precede the upper-right')\n",
    "    \n",
    "    def __eq__(self, other: 'Rect') -> bool:\n",
    "        return self.lower_left == other.lower_left and self.upper_right == other.upper_right\n",
    "    \n",
    "    def __str__(self) -> str:\n",
    "        return \"{} - {}\".format(self.lower_left, self.upper_right)\n",
    "    \n",
    "    def __repr__(self):\n",
    "        return self.__str__()\n",
    "    \n",
    "    def intersects(self, other: 'Rect') -> bool:\n",
    "        return self.lower_left.precedes(other.upper_right) and other.lower_left.precedes(self.upper_right)\n",
    "    \n",
    "    def contains_point(self, point: Point) -> bool: # Type of point is left intentionally ambiguous\n",
    "        return self.lower_left.precedes(point) and self.upper_right.follows(point)\n",
    "    \n",
    "    def contains_rectangle(self, rect: 'Rect') -> bool:\n",
    "        return self.lower_left.precedes(rect.lower_left) and self.upper_right.follows(rect.upper_right)\n",
    "\n",
    "    def divide_vertically(self) -> Tuple['Rect', 'Rect']:\n",
    "        midpoint = (self.lower_left.x + self.upper_right.x) / 2\n",
    "        left = Rect((self.lower_left.x, self.lower_left.y), (midpoint, self.upper_right.y))\n",
    "        right = Rect((midpoint, self.lower_left.y), (self.upper_right.x, self.upper_right.y))\n",
    "        return left, right\n",
    "\n",
    "    def divide_horizontally(self) -> Tuple['Rect', 'Rect']:\n",
    "        midpoint = ((self.lower_left.y + self.upper_right.y) / 2)\n",
    "        up = Rect((self.lower_left.x, midpoint), (self.upper_right.x, self.upper_right.y))\n",
    "        down = Rect((self.lower_left.x, self.lower_left.y), (self.upper_right.x, midpoint))\n",
    "        return up, down"
   ]
  },
  {
   "cell_type": "code",
   "execution_count": 7,
   "id": "745d658e",
   "metadata": {},
   "outputs": [],
   "source": [
    "class QuadTree():\n",
    "    CAPACITY = 1 # Arbitrary constant to indicate how many elements can be stored in this quad tree node\n",
    "    \n",
    "    def __init__(self, bounding_box: Rect) -> 'QuadTree':\n",
    "        self.bounding_box = bounding_box\n",
    "        self.points: List[Point] = []\n",
    "        \n",
    "        self.upper_right: QuadTree = None\n",
    "        self.upper_left: QuadTree = None\n",
    "        self.lower_right: QuadTree = None\n",
    "        self.lower_left: QuadTree = None\n",
    "            \n",
    "    def insert(self, point: Point):\n",
    "        if not self.bounding_box.contains_point(point):\n",
    "            return False\n",
    "        if len(self.points) < QuadTree.CAPACITY and self.upper_right == None:\n",
    "            self.points.append(point)\n",
    "            return True\n",
    "        if self.upper_right == None:\n",
    "            self._subdivide()\n",
    "        \n",
    "        if self.upper_right.insert(point):\n",
    "            return True\n",
    "        if self.upper_left.insert(point):\n",
    "            return True\n",
    "        if self.lower_right.insert(point):\n",
    "            return  True\n",
    "        if self.lower_left.insert(point):\n",
    "            return True\n",
    "            \n",
    "        raise RuntimeError(\"Failed when inserting {}\".format(point))\n",
    "    \n",
    "    def querry_range(self, rect: Rect) -> List[Point]:\n",
    "        if not rect.intersects(self.bounding_box):\n",
    "            return []\n",
    "        \n",
    "        result: List[Point] = list(filter(lambda point: rect.contains_point(point), self.points))\n",
    "        if self.upper_right == None:\n",
    "            return result\n",
    "        \n",
    "        result.extend(self.upper_right.querry_range(rect))\n",
    "        result.extend(self.upper_left.querry_range(rect))\n",
    "        result.extend(self.lower_right.querry_range(rect))\n",
    "        result.extend(self.lower_left.querry_range(rect))\n",
    "        return result\n",
    "            \n",
    "    \n",
    "    def _subdivide(self):\n",
    "        left, right = self.bounding_box.divide_vertically()\n",
    "        up_left, down_left = left.divide_horizontally()\n",
    "        up_right, down_right = right.divide_horizontally()\n",
    "        \n",
    "        self.upper_right = QuadTree(up_right)\n",
    "        self.upper_left = QuadTree(up_left)\n",
    "        self.lower_right = QuadTree(down_right)\n",
    "        self.lower_left = QuadTree(down_left)\n"
   ]
  },
  {
   "cell_type": "code",
   "execution_count": 14,
   "id": "53442f6b",
   "metadata": {},
   "outputs": [],
   "source": [
    "def visualise(ax, tree: QuadTree):\n",
    "    for point in tree.points:\n",
    "        ax.plot(point.x, point.y, 'ro')\n",
    "        \n",
    "    if tree.upper_right == None:\n",
    "        width = tree.bounding_box.upper_right.x - tree.bounding_box.lower_left.x\n",
    "        height = tree.bounding_box.upper_right.y - tree.bounding_box.lower_left.y\n",
    "        ax.add_patch(Rectangle((tree.bounding_box.lower_left.x, tree.bounding_box.lower_left.y), width, height, fill=False))\n",
    "        return\n",
    "    \n",
    "    visualise(ax, tree.upper_right)\n",
    "    visualise(ax, tree.upper_left)    \n",
    "    visualise(ax, tree.lower_left)    \n",
    "    visualise(ax, tree.lower_right)"
   ]
  },
  {
   "cell_type": "code",
   "execution_count": 15,
   "id": "1b877ca8",
   "metadata": {},
   "outputs": [
    {
     "name": "stdout",
     "output_type": "stream",
     "text": [
      "Found 3 point in range 0.15, 0.15 - 0.8, 0.8\n"
     ]
    },
    {
     "data": {
      "image/png": "[encoded data removed]",
      "text/plain": [
       "<Figure size 640x480 with 1 Axes>"
      ]
     },
     "metadata": {},
     "output_type": "display_data"
    }
   ],
   "source": [
    "fig, ax = plt.subplots()\n",
    "tree = QuadTree(Rect((0, 0), (1, 1)))\n",
    "import random\n",
    "points = [Point(random.uniform(0, 1), random.uniform(0, 1)) for _ in range(10)]\n",
    "for p in points:\n",
    "    tree.insert(p)\n",
    "visualise(ax, tree)\n",
    "\n",
    "rect = Rect((0.15, 0.15), (0.8, 0.8))\n",
    "width = rect.upper_right.x - rect.lower_left.x\n",
    "height = rect.upper_right.y - rect.lower_left.y\n",
    "ax.add_patch(Rectangle((rect.lower_left.x, rect.lower_left.y), width, height, fill=False, color='blue'))\n",
    "found = tree.querry_range(rect)\n",
    "print(\"Found {} point in range {}\".format(len(found), rect))\n",
    "for point in found:\n",
    "    ax.plot(point.x, point.y, marker='o', color='blue')"
   ]
  }
 ],
 "metadata": {
  "kernelspec": {
   "display_name": "Python 3 (ipykernel)",
   "language": "python",
   "name": "python3"
  },
  "language_info": {
   "codemirror_mode": {
    "name": "ipython",
    "version": 3
   },
   "file_extension": ".py",
   "mimetype": "text/x-python",
   "name": "python",
   "nbconvert_exporter": "python",
   "pygments_lexer": "ipython3",
   "version": "3.10.6"
  }
 },
 "nbformat": 4,
 "nbformat_minor": 5
}
